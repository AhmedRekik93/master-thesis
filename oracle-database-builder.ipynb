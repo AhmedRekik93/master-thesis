{
 "cells": [
  {
   "cell_type": "markdown",
   "metadata": {},
   "source": [
    "## Oracle Database Generator\n",
    "\n",
    "The database to train the oracle consists of indices, which will be used by the generator to train the model.\n",
    "The indices must be saved on hard disk. The batch generator loads all indices and generates each batch using these indices (per default, the indices are saved in `indices/training_oracle_model.json`)"
   ]
  },
  {
   "cell_type": "markdown",
   "metadata": {},
   "source": [
    "Each index has the following shape: `(case_id, axial_slice_row, mask_row, IoU, liver_size)`\n",
    "Note that if `IoU = 'NaN'` then `-1` will be assigned as IoU instead."
   ]
  },
  {
   "cell_type": "code",
   "execution_count": null,
   "metadata": {},
   "outputs": [],
   "source": [
    "from libs.oracle_database import get_oracle_training_data"
   ]
  },
  {
   "cell_type": "code",
   "execution_count": null,
   "metadata": {},
   "outputs": [],
   "source": [
    "def save(samples):\n",
    "    import json\n",
    "    with open('indices/training_oracle_model.json', 'w') as js:\n",
    "        json.dump(samples, js)\n",
    "        print 'Oracle indices saved successfully!'"
   ]
  },
  {
   "cell_type": "code",
   "execution_count": null,
   "metadata": {},
   "outputs": [],
   "source": [
    "indices = get_oracle_training_data(20)\n",
    "save(indices)"
   ]
  },
  {
   "cell_type": "markdown",
   "metadata": {},
   "source": [
    "## Render a historgram of the IoU distribution in the database"
   ]
  },
  {
   "cell_type": "code",
   "execution_count": null,
   "metadata": {},
   "outputs": [],
   "source": [
    "import matplotlib.pyplot as plt\n",
    "\n",
    "plt.hist(map(lambda x: x[3], indices), bins=100)"
   ]
  },
  {
   "cell_type": "code",
   "execution_count": null,
   "metadata": {},
   "outputs": [],
   "source": []
  }
 ],
 "metadata": {
  "kernelspec": {
   "display_name": "Python 2",
   "language": "python",
   "name": "python2"
  },
  "language_info": {
   "codemirror_mode": {
    "name": "ipython",
    "version": 2
   },
   "file_extension": ".py",
   "mimetype": "text/x-python",
   "name": "python",
   "nbconvert_exporter": "python",
   "pygments_lexer": "ipython2",
   "version": "2.7.12"
  }
 },
 "nbformat": 4,
 "nbformat_minor": 2
}
