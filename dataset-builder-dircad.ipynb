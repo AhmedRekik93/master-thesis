{
 "cells": [
  {
   "cell_type": "markdown",
   "metadata": {},
   "source": [
    "## Building a h5 dataset"
   ]
  },
  {
   "cell_type": "markdown",
   "metadata": {},
   "source": [
    "__Prerequisite__: The script assumes that the data is already extracted using `dircad_data_extractor.ipynb`. The function `get_patient_case_dirc` bundles the extracted data into three-dimensional volumes."
   ]
  },
  {
   "cell_type": "markdown",
   "metadata": {},
   "source": [
    "The built database includes 20 groups. \n",
    "Each group includes an X (volume) and Y (segmentation) property.\n",
    "In training phase, the batch generator selects samples from the dataset (e.g., select slice 45 of patient 3 => `return (hdf.get(3)['X'][45], hdf.get(3)['Y'][45])`)"
   ]
  },
  {
   "cell_type": "code",
   "execution_count": null,
   "metadata": {},
   "outputs": [],
   "source": [
    "import h5py\n",
    "import numpy as np\n",
    "from libs.data_extractor import get_patient_case_dirc\n",
    "from libs.preprocessing import normalize_data, crop_x_y"
   ]
  },
  {
   "cell_type": "markdown",
   "metadata": {},
   "source": [
    "The data is storaged in `data/training_data.h5`"
   ]
  },
  {
   "cell_type": "code",
   "execution_count": null,
   "metadata": {},
   "outputs": [],
   "source": [
    "for i in range(1,21):\n",
    "    s = 'w' if i== 1 else 'r+'\n",
    "    X, Y = get_patient_case_dirc(i)\n",
    "    with h5py.File('data/training_data.h5', s, libver='latest') as hdf:\n",
    "        # Clipping\n",
    "        X = np.clip(X, -400., 400.)\n",
    "\n",
    "        index = str(i  - 1) # to [0, 19] range\n",
    "        group = hdf.create_group(index)\n",
    "        \n",
    "        # Cropping\n",
    "        X, Y = crop_x_y(X, Y)\n",
    "        \n",
    "        # Normalizing\n",
    "        X = normalize_data(X)\n",
    "\n",
    "        #Storage\n",
    "        group.create_dataset('x', data= X.reshape(X.shape + (1,)), dtype= 'float32')\n",
    "        group.create_dataset('y', data= Y, dtype = 'uint8')\n",
    "        hdf.swmr_mode = True"
   ]
  }
 ],
 "metadata": {
  "kernelspec": {
   "display_name": "Python 2",
   "language": "python",
   "name": "python2"
  },
  "language_info": {
   "codemirror_mode": {
    "name": "ipython",
    "version": 2
   },
   "file_extension": ".py",
   "mimetype": "text/x-python",
   "name": "python",
   "nbconvert_exporter": "python",
   "pygments_lexer": "ipython2",
   "version": "2.7.12"
  }
 },
 "nbformat": 4,
 "nbformat_minor": 2
}
