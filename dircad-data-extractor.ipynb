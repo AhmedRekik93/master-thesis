{
 "cells": [
  {
   "cell_type": "markdown",
   "metadata": {},
   "source": [
    "## Data Extractor"
   ]
  },
  {
   "cell_type": "markdown",
   "metadata": {},
   "source": [
    "This script assumes that the _3D-ircad_ database (`3Dircadb1.zip`) is in the same folder as this script.\n",
    "\n",
    "These instruction would decompress and translate the data into a format that can be interpreted and storaged in a `.h5` dataset (see `dataset-builder-dircad.ipynb`)."
   ]
  },
  {
   "cell_type": "code",
   "execution_count": null,
   "metadata": {},
   "outputs": [],
   "source": [
    "from libs.data_extractor import extract_and_add_dcm_ext, extract_zip"
   ]
  },
  {
   "cell_type": "code",
   "execution_count": null,
   "metadata": {},
   "outputs": [],
   "source": [
    "import os, shutil\n",
    "\n",
    "# PRECAUTION: This cell deletes 3Dircadb patient directories in the current directory of the notebook\n",
    "# Advice: Execute this script only in the directory where the dataset is extracted\n",
    "for filename in os.listdir('./'):\n",
    "    if os.path.isdir(filename) and filename.startswith('3Dircadb'):\n",
    "        shutil.rmtree(filename)"
   ]
  },
  {
   "cell_type": "code",
   "execution_count": null,
   "metadata": {},
   "outputs": [],
   "source": [
    "# Dezip the file\n",
    "extract_zip('3Dircadb1', './')"
   ]
  },
  {
   "cell_type": "code",
   "execution_count": null,
   "metadata": {},
   "outputs": [],
   "source": [
    "# dezip all patients data and add .dcm extension to each slice\n",
    "extract_and_add_dcm_ext()"
   ]
  }
 ],
 "metadata": {
  "kernelspec": {
   "display_name": "Python 2",
   "language": "python",
   "name": "python2"
  },
  "language_info": {
   "codemirror_mode": {
    "name": "ipython",
    "version": 2
   },
   "file_extension": ".py",
   "mimetype": "text/x-python",
   "name": "python",
   "nbconvert_exporter": "python",
   "pygments_lexer": "ipython2",
   "version": "2.7.12"
  }
 },
 "nbformat": 4,
 "nbformat_minor": 2
}
