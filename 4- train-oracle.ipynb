{
 "cells": [
  {
   "cell_type": "markdown",
   "metadata": {},
   "source": [
    "## Training the Oracle\n",
    "\n",
    "This scripts assumes the use of `buckets classification` as classification modality."
   ]
  },
  {
   "cell_type": "code",
   "execution_count": null,
   "metadata": {},
   "outputs": [],
   "source": [
    "from libs.generators.batch_generator_oracle import BatchGeneratorTrainOracle, BatchGeneratorValidationOracle\n",
    "from libs.models.oracle_models import get_pretrained_oracle"
   ]
  },
  {
   "cell_type": "code",
   "execution_count": null,
   "metadata": {},
   "outputs": [],
   "source": [
    "import tensorflow as tf\n",
    "import keras.backend as K\n",
    "import keras\n",
    "\n",
    "config = tf.ConfigProto()\n",
    "config.gpu_options.allow_growth = True\n",
    "session = tf.Session(config=config)"
   ]
  },
  {
   "cell_type": "code",
   "execution_count": null,
   "metadata": {},
   "outputs": [],
   "source": [
    "gen_train = BatchGeneratorTrainOracle(batch_size = 16, vgg = True, modality= 'buckets')"
   ]
  },
  {
   "cell_type": "code",
   "execution_count": null,
   "metadata": {},
   "outputs": [],
   "source": [
    "gen_valid = BatchGeneratorValidationOracle(batch_size = 16, vgg = True, modality = 'buckets')"
   ]
  },
  {
   "cell_type": "markdown",
   "metadata": {},
   "source": [
    "## Retrieve pre-trained model and train "
   ]
  },
  {
   "cell_type": "code",
   "execution_count": null,
   "metadata": {},
   "outputs": [],
   "source": [
    "model = get_pretrained_oracle()"
   ]
  },
  {
   "cell_type": "code",
   "execution_count": null,
   "metadata": {},
   "outputs": [],
   "source": [
    "def distance_categorical(y_true, y_pred):\n",
    "    '''Measures the distance between two classes. Used as selection criterion in validation.'''\n",
    "    t = K.argmax(y_true)\n",
    "    p = K.argmax(y_pred)\n",
    "    return K.cast(K.abs(t-p), 'float32') / 5."
   ]
  },
  {
   "cell_type": "code",
   "execution_count": null,
   "metadata": {},
   "outputs": [],
   "source": [
    "from keras.callbacks import ModelCheckpoint\n",
    "from keras.optimizers import Adam\n",
    "\n",
    "checkpoint = ModelCheckpoint('checkpoints/checkpoint_oracle.h5', monitor='val_distance_categorical', verbose=1, save_best_only=True, save_weights_only=True)\n",
    "model.compile(loss='categorical_crossentropy', optimizer = Adam(lr=1e-4, clipvalue= 0.3, clipnorm= 1.), metrics = ['categorical_accuracy', distance_categorical])"
   ]
  },
  {
   "cell_type": "code",
   "execution_count": null,
   "metadata": {
    "scrolled": false
   },
   "outputs": [],
   "source": [
    "model.fit_generator(gen_train, validation_data= gen_valid, max_queue_size=50, callbacks=[checkpoint], epochs=20, workers= 64, class_weight=[1.,1., 1., 1., 0.8, 0.5] )"
   ]
  },
  {
   "cell_type": "markdown",
   "metadata": {},
   "source": [
    "## Unfreeze pre-trained layers and fine-tune"
   ]
  },
  {
   "cell_type": "code",
   "execution_count": null,
   "metadata": {},
   "outputs": [],
   "source": [
    "# unfreeze the pre-trained layers\n",
    "for l in model.layers[:-6]:\n",
    "    l.trainable = True"
   ]
  },
  {
   "cell_type": "code",
   "execution_count": null,
   "metadata": {},
   "outputs": [],
   "source": [
    "model.compile(loss='categorical_crossentropy', optimizer = Adam(lr=1e-5, clipvalue= 0.3, clipnorm= 1.), metrics = ['categorical_accuracy', distance_categorical])"
   ]
  },
  {
   "cell_type": "code",
   "execution_count": null,
   "metadata": {},
   "outputs": [],
   "source": [
    "model.fit_generator(gen_train, validation_data= gen_valid, max_queue_size=50, callbacks=[checkpoint], epochs=20, workers= 64, class_weight=[1.,1., 1., 1., 0.8, 0.5] )"
   ]
  },
  {
   "cell_type": "markdown",
   "metadata": {},
   "source": [
    "## Save model"
   ]
  },
  {
   "cell_type": "code",
   "execution_count": null,
   "metadata": {},
   "outputs": [],
   "source": [
    "from libs.keras_checkpoints import save_model\n",
    "\n",
    "model.load_weights('checkpoints/checkpoint_oracle.h5')\n",
    "save_model(model, 'models/oracle')"
   ]
  }
 ],
 "metadata": {
  "kernelspec": {
   "display_name": "Python 2",
   "language": "python",
   "name": "python2"
  },
  "language_info": {
   "codemirror_mode": {
    "name": "ipython",
    "version": 2
   },
   "file_extension": ".py",
   "mimetype": "text/x-python",
   "name": "python",
   "nbconvert_exporter": "python",
   "pygments_lexer": "ipython2",
   "version": "2.7.12"
  }
 },
 "nbformat": 4,
 "nbformat_minor": 2
}
