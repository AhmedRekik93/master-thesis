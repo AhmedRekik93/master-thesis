{
 "cells": [
  {
   "cell_type": "markdown",
   "metadata": {},
   "source": [
    "## Initialize a semi-supervised database\n",
    "\n",
    "The database contains 3 parts:\n",
    "* The supervised data (stored as (0, i))\n",
    "* The semi-supervised data that have a higher IoU than 0.9 (stored as (1, i))\n",
    "* The semi-supervised data that have an undefined IoU (stored as (2, i))\n",
    "\n",
    "The builder imports data from `data/training_data.h5` to generate a new dataset `data/collected_training_data.h5`."
   ]
  },
  {
   "cell_type": "code",
   "execution_count": null,
   "metadata": {},
   "outputs": [],
   "source": [
    "from libs.init_ssl_database import init_ssl_databse"
   ]
  },
  {
   "cell_type": "markdown",
   "metadata": {},
   "source": [
    "## Info\n",
    "One `h5` database and two set of indices are generated. The indices denote as follows:\n",
    "* `indices/semi_supervised_indices.json`:  The indices of the samples in the semi-supervised dataset. These indices will be used to generate batches from `data/collected_training_data.h5`.\n",
    "* `indices/collected_semi_supervised_samples.json`: The real indices of the samples in the dircad database. These indices are used to compute the number of new training data inserted in each iteration.\n",
    "\n",
    "__Note__: Change `cid` to starts with a new supervised dataset."
   ]
  },
  {
   "cell_type": "code",
   "execution_count": null,
   "metadata": {},
   "outputs": [],
   "source": [
    "init_ssl_databse(cid = 0)"
   ]
  }
 ],
 "metadata": {
  "kernelspec": {
   "display_name": "Python 2",
   "language": "python",
   "name": "python2"
  },
  "language_info": {
   "codemirror_mode": {
    "name": "ipython",
    "version": 2
   },
   "file_extension": ".py",
   "mimetype": "text/x-python",
   "name": "python",
   "nbconvert_exporter": "python",
   "pygments_lexer": "ipython2",
   "version": "2.7.12"
  }
 },
 "nbformat": 4,
 "nbformat_minor": 2
}